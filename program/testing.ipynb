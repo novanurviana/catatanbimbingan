{
 "cells": [
  {
   "cell_type": "code",
   "execution_count": 1,
   "id": "7715c821",
   "metadata": {},
   "outputs": [],
   "source": [
    "import pandas as pd\n",
    "import numpy as np\n",
    "\n",
    "from sklearn.preprocessing import LabelEncoder\n",
    "from sklearn.feature_extraction.text import CountVectorizer, TfidfTransformer\n",
    "from sklearn.naive_bayes import MultinomialNB\n",
    "from sklearn.linear_model import SGDClassifier\n",
    "from sklearn.pipeline import Pipeline\n",
    "from sklearn import metrics"
   ]
  },
  {
   "cell_type": "code",
   "execution_count": 80,
   "id": "365b9bbe",
   "metadata": {},
   "outputs": [],
   "source": [
    "deploy_news = pd.read_excel(\"predict-2020-antaranews2.xlsx\", sheet_name=\"Sheet1\", engine=\"openpyxl\",\n",
    "                          nrows=200)"
   ]
  },
  {
   "cell_type": "code",
   "execution_count": 81,
   "id": "b3ae0194",
   "metadata": {},
   "outputs": [
    {
     "data": {
      "text/html": [
       "<div>\n",
       "<style scoped>\n",
       "    .dataframe tbody tr th:only-of-type {\n",
       "        vertical-align: middle;\n",
       "    }\n",
       "\n",
       "    .dataframe tbody tr th {\n",
       "        vertical-align: top;\n",
       "    }\n",
       "\n",
       "    .dataframe thead th {\n",
       "        text-align: right;\n",
       "    }\n",
       "</style>\n",
       "<table border=\"1\" class=\"dataframe\">\n",
       "  <thead>\n",
       "    <tr style=\"text-align: right;\">\n",
       "      <th></th>\n",
       "      <th>bulan</th>\n",
       "      <th>berita</th>\n",
       "    </tr>\n",
       "  </thead>\n",
       "  <tbody>\n",
       "    <tr>\n",
       "      <th>0</th>\n",
       "      <td>10</td>\n",
       "      <td>Jakarta (ANTARA) - Presiden Konfederasi Serika...</td>\n",
       "    </tr>\n",
       "    <tr>\n",
       "      <th>1</th>\n",
       "      <td>10</td>\n",
       "      <td>Karawang (ANTARA) - Aparat kepolisian dari Pol...</td>\n",
       "    </tr>\n",
       "    <tr>\n",
       "      <th>2</th>\n",
       "      <td>10</td>\n",
       "      <td>Cirebon (ANTARA) - Kepolisian Resor (Polres) C...</td>\n",
       "    </tr>\n",
       "    <tr>\n",
       "      <th>3</th>\n",
       "      <td>10</td>\n",
       "      <td>Bandung (ANTARA) -\\nPetugas Polrestabes Bandun...</td>\n",
       "    </tr>\n",
       "    <tr>\n",
       "      <th>4</th>\n",
       "      <td>10</td>\n",
       "      <td>Subang (ANTARA) - Polres Kabupaten Subang, Jaw...</td>\n",
       "    </tr>\n",
       "    <tr>\n",
       "      <th>...</th>\n",
       "      <td>...</td>\n",
       "      <td>...</td>\n",
       "    </tr>\n",
       "    <tr>\n",
       "      <th>125</th>\n",
       "      <td>6</td>\n",
       "      <td>Bogor (ANTARA) - Mahasiswa Program Doktor Peng...</td>\n",
       "    </tr>\n",
       "    <tr>\n",
       "      <th>126</th>\n",
       "      <td>6</td>\n",
       "      <td>Karawang (ANTARA) - Komisi I DPRD Kabupaten Ka...</td>\n",
       "    </tr>\n",
       "    <tr>\n",
       "      <th>127</th>\n",
       "      <td>6</td>\n",
       "      <td>Bandung (ANTARA) - Kepala Biro Pemerintahan da...</td>\n",
       "    </tr>\n",
       "    <tr>\n",
       "      <th>128</th>\n",
       "      <td>5</td>\n",
       "      <td>Bandung (ANTARA) - Dewan Pimpinan Wilayah Part...</td>\n",
       "    </tr>\n",
       "    <tr>\n",
       "      <th>129</th>\n",
       "      <td>9</td>\n",
       "      <td>Bandung (ANTARA) - Ketua Umum Dewan Pimpinan W...</td>\n",
       "    </tr>\n",
       "  </tbody>\n",
       "</table>\n",
       "<p>130 rows × 2 columns</p>\n",
       "</div>"
      ],
      "text/plain": [
       "     bulan                                             berita\n",
       "0       10  Jakarta (ANTARA) - Presiden Konfederasi Serika...\n",
       "1       10  Karawang (ANTARA) - Aparat kepolisian dari Pol...\n",
       "2       10  Cirebon (ANTARA) - Kepolisian Resor (Polres) C...\n",
       "3       10  Bandung (ANTARA) -\\nPetugas Polrestabes Bandun...\n",
       "4       10  Subang (ANTARA) - Polres Kabupaten Subang, Jaw...\n",
       "..     ...                                                ...\n",
       "125      6  Bogor (ANTARA) - Mahasiswa Program Doktor Peng...\n",
       "126      6  Karawang (ANTARA) - Komisi I DPRD Kabupaten Ka...\n",
       "127      6  Bandung (ANTARA) - Kepala Biro Pemerintahan da...\n",
       "128      5  Bandung (ANTARA) - Dewan Pimpinan Wilayah Part...\n",
       "129      9  Bandung (ANTARA) - Ketua Umum Dewan Pimpinan W...\n",
       "\n",
       "[130 rows x 2 columns]"
      ]
     },
     "execution_count": 81,
     "metadata": {},
     "output_type": "execute_result"
    }
   ],
   "source": [
    "deploy_news"
   ]
  },
  {
   "cell_type": "code",
   "execution_count": 82,
   "id": "25b42836",
   "metadata": {},
   "outputs": [],
   "source": [
    "train_news = pd.read_excel(\"selected-training-data.xlsx\", sheet_name=\"Sheet1\", engine=\"openpyxl\",\n",
    "                          nrows=200)"
   ]
  },
  {
   "cell_type": "code",
   "execution_count": 83,
   "id": "59ed24e5",
   "metadata": {},
   "outputs": [
    {
     "data": {
      "text/html": [
       "<div>\n",
       "<style scoped>\n",
       "    .dataframe tbody tr th:only-of-type {\n",
       "        vertical-align: middle;\n",
       "    }\n",
       "\n",
       "    .dataframe tbody tr th {\n",
       "        vertical-align: top;\n",
       "    }\n",
       "\n",
       "    .dataframe thead th {\n",
       "        text-align: right;\n",
       "    }\n",
       "</style>\n",
       "<table border=\"1\" class=\"dataframe\">\n",
       "  <thead>\n",
       "    <tr style=\"text-align: right;\">\n",
       "      <th></th>\n",
       "      <th>violence</th>\n",
       "      <th>non-violence</th>\n",
       "    </tr>\n",
       "  </thead>\n",
       "  <tbody>\n",
       "    <tr>\n",
       "      <th>0</th>\n",
       "      <td>BANDUNG, (PR).- Sidang kasus penganiayaan dua ...</td>\n",
       "      <td>SOREANG, (PR).- Sedikitnya 104 eksemplar tablo...</td>\n",
       "    </tr>\n",
       "    <tr>\n",
       "      <th>1</th>\n",
       "      <td>BOGOR, (PR).- Ratusan warga dari Kelurahan Kat...</td>\n",
       "      <td>NGAMPRAH, (PR).- Lantaran tak ada dana operasi...</td>\n",
       "    </tr>\n",
       "    <tr>\n",
       "      <th>2</th>\n",
       "      <td>BANDUNG, (PR).- Pendukung Persib Bandung tenga...</td>\n",
       "      <td>NGAMPRAH, (PR).- Lantaran tak ada dana operasi...</td>\n",
       "    </tr>\n",
       "    <tr>\n",
       "      <th>3</th>\n",
       "      <td>SUMEDANG, (PR).- Sidang Paripurna Istimewa DPR...</td>\n",
       "      <td>CIKARANG, (PR).- Pemerintah Kabupaten Bekasi d...</td>\n",
       "    </tr>\n",
       "    <tr>\n",
       "      <th>4</th>\n",
       "      <td>NGAMPRAH, (PR).- Manajemen PT Ultrajaya Milk I...</td>\n",
       "      <td>TANPA alas kaki, Adimin (83) melangkah perlaha...</td>\n",
       "    </tr>\n",
       "    <tr>\n",
       "      <th>...</th>\n",
       "      <td>...</td>\n",
       "      <td>...</td>\n",
       "    </tr>\n",
       "    <tr>\n",
       "      <th>106</th>\n",
       "      <td>TRIBUNCIREBON, MAJALENGKA - Kepala Desa (Kuwu)...</td>\n",
       "      <td>TRIBUNJABAR.ID, INDRAMAYU- Krisis air bersih m...</td>\n",
       "    </tr>\n",
       "    <tr>\n",
       "      <th>107</th>\n",
       "      <td>TRIBUNJABAR.ID, BANDUNG - Di sela kegitannya b...</td>\n",
       "      <td>TRIBUNJABAR.ID, TASIKMALAYA - Badan Penanggula...</td>\n",
       "    </tr>\n",
       "    <tr>\n",
       "      <th>108</th>\n",
       "      <td>TRIBUNJABAR.ID,BANDUNG - Sejumlah warga Kabupa...</td>\n",
       "      <td>TRIBUNJABAR.ID, CIANJUR - Bencana kekeringan m...</td>\n",
       "    </tr>\n",
       "    <tr>\n",
       "      <th>109</th>\n",
       "      <td>Dugaan tersebut berdasarkan temuan yang didapa...</td>\n",
       "      <td>TRIBUNJABAR.ID, MAJALENGKA - Warga Desa Paning...</td>\n",
       "    </tr>\n",
       "    <tr>\n",
       "      <th>110</th>\n",
       "      <td>TRIBUNJABAR.ID, SINDANGKERTA - Pemandangan ber...</td>\n",
       "      <td>TRIBUNJABAR.ID, CIREBON - Sebagian warga Kelur...</td>\n",
       "    </tr>\n",
       "  </tbody>\n",
       "</table>\n",
       "<p>111 rows × 2 columns</p>\n",
       "</div>"
      ],
      "text/plain": [
       "                                              violence  \\\n",
       "0    BANDUNG, (PR).- Sidang kasus penganiayaan dua ...   \n",
       "1    BOGOR, (PR).- Ratusan warga dari Kelurahan Kat...   \n",
       "2    BANDUNG, (PR).- Pendukung Persib Bandung tenga...   \n",
       "3    SUMEDANG, (PR).- Sidang Paripurna Istimewa DPR...   \n",
       "4    NGAMPRAH, (PR).- Manajemen PT Ultrajaya Milk I...   \n",
       "..                                                 ...   \n",
       "106  TRIBUNCIREBON, MAJALENGKA - Kepala Desa (Kuwu)...   \n",
       "107  TRIBUNJABAR.ID, BANDUNG - Di sela kegitannya b...   \n",
       "108  TRIBUNJABAR.ID,BANDUNG - Sejumlah warga Kabupa...   \n",
       "109  Dugaan tersebut berdasarkan temuan yang didapa...   \n",
       "110  TRIBUNJABAR.ID, SINDANGKERTA - Pemandangan ber...   \n",
       "\n",
       "                                          non-violence  \n",
       "0    SOREANG, (PR).- Sedikitnya 104 eksemplar tablo...  \n",
       "1    NGAMPRAH, (PR).- Lantaran tak ada dana operasi...  \n",
       "2    NGAMPRAH, (PR).- Lantaran tak ada dana operasi...  \n",
       "3    CIKARANG, (PR).- Pemerintah Kabupaten Bekasi d...  \n",
       "4    TANPA alas kaki, Adimin (83) melangkah perlaha...  \n",
       "..                                                 ...  \n",
       "106  TRIBUNJABAR.ID, INDRAMAYU- Krisis air bersih m...  \n",
       "107  TRIBUNJABAR.ID, TASIKMALAYA - Badan Penanggula...  \n",
       "108  TRIBUNJABAR.ID, CIANJUR - Bencana kekeringan m...  \n",
       "109  TRIBUNJABAR.ID, MAJALENGKA - Warga Desa Paning...  \n",
       "110  TRIBUNJABAR.ID, CIREBON - Sebagian warga Kelur...  \n",
       "\n",
       "[111 rows x 2 columns]"
      ]
     },
     "execution_count": 83,
     "metadata": {},
     "output_type": "execute_result"
    }
   ],
   "source": [
    "train_news"
   ]
  },
  {
   "cell_type": "code",
   "execution_count": 84,
   "id": "46b4643c",
   "metadata": {},
   "outputs": [],
   "source": [
    "train_news = train_news.melt(var_name=\"label\", value_name=\"text\")"
   ]
  },
  {
   "cell_type": "code",
   "execution_count": 85,
   "id": "5c2f406f",
   "metadata": {},
   "outputs": [
    {
     "data": {
      "text/html": [
       "<div>\n",
       "<style scoped>\n",
       "    .dataframe tbody tr th:only-of-type {\n",
       "        vertical-align: middle;\n",
       "    }\n",
       "\n",
       "    .dataframe tbody tr th {\n",
       "        vertical-align: top;\n",
       "    }\n",
       "\n",
       "    .dataframe thead th {\n",
       "        text-align: right;\n",
       "    }\n",
       "</style>\n",
       "<table border=\"1\" class=\"dataframe\">\n",
       "  <thead>\n",
       "    <tr style=\"text-align: right;\">\n",
       "      <th></th>\n",
       "      <th>label</th>\n",
       "      <th>text</th>\n",
       "    </tr>\n",
       "  </thead>\n",
       "  <tbody>\n",
       "    <tr>\n",
       "      <th>0</th>\n",
       "      <td>violence</td>\n",
       "      <td>BANDUNG, (PR).- Sidang kasus penganiayaan dua ...</td>\n",
       "    </tr>\n",
       "    <tr>\n",
       "      <th>1</th>\n",
       "      <td>violence</td>\n",
       "      <td>BOGOR, (PR).- Ratusan warga dari Kelurahan Kat...</td>\n",
       "    </tr>\n",
       "    <tr>\n",
       "      <th>2</th>\n",
       "      <td>violence</td>\n",
       "      <td>BANDUNG, (PR).- Pendukung Persib Bandung tenga...</td>\n",
       "    </tr>\n",
       "    <tr>\n",
       "      <th>3</th>\n",
       "      <td>violence</td>\n",
       "      <td>SUMEDANG, (PR).- Sidang Paripurna Istimewa DPR...</td>\n",
       "    </tr>\n",
       "    <tr>\n",
       "      <th>4</th>\n",
       "      <td>violence</td>\n",
       "      <td>NGAMPRAH, (PR).- Manajemen PT Ultrajaya Milk I...</td>\n",
       "    </tr>\n",
       "    <tr>\n",
       "      <th>...</th>\n",
       "      <td>...</td>\n",
       "      <td>...</td>\n",
       "    </tr>\n",
       "    <tr>\n",
       "      <th>217</th>\n",
       "      <td>non-violence</td>\n",
       "      <td>TRIBUNJABAR.ID, INDRAMAYU- Krisis air bersih m...</td>\n",
       "    </tr>\n",
       "    <tr>\n",
       "      <th>218</th>\n",
       "      <td>non-violence</td>\n",
       "      <td>TRIBUNJABAR.ID, TASIKMALAYA - Badan Penanggula...</td>\n",
       "    </tr>\n",
       "    <tr>\n",
       "      <th>219</th>\n",
       "      <td>non-violence</td>\n",
       "      <td>TRIBUNJABAR.ID, CIANJUR - Bencana kekeringan m...</td>\n",
       "    </tr>\n",
       "    <tr>\n",
       "      <th>220</th>\n",
       "      <td>non-violence</td>\n",
       "      <td>TRIBUNJABAR.ID, MAJALENGKA - Warga Desa Paning...</td>\n",
       "    </tr>\n",
       "    <tr>\n",
       "      <th>221</th>\n",
       "      <td>non-violence</td>\n",
       "      <td>TRIBUNJABAR.ID, CIREBON - Sebagian warga Kelur...</td>\n",
       "    </tr>\n",
       "  </tbody>\n",
       "</table>\n",
       "<p>222 rows × 2 columns</p>\n",
       "</div>"
      ],
      "text/plain": [
       "            label                                               text\n",
       "0        violence  BANDUNG, (PR).- Sidang kasus penganiayaan dua ...\n",
       "1        violence  BOGOR, (PR).- Ratusan warga dari Kelurahan Kat...\n",
       "2        violence  BANDUNG, (PR).- Pendukung Persib Bandung tenga...\n",
       "3        violence  SUMEDANG, (PR).- Sidang Paripurna Istimewa DPR...\n",
       "4        violence  NGAMPRAH, (PR).- Manajemen PT Ultrajaya Milk I...\n",
       "..            ...                                                ...\n",
       "217  non-violence  TRIBUNJABAR.ID, INDRAMAYU- Krisis air bersih m...\n",
       "218  non-violence  TRIBUNJABAR.ID, TASIKMALAYA - Badan Penanggula...\n",
       "219  non-violence  TRIBUNJABAR.ID, CIANJUR - Bencana kekeringan m...\n",
       "220  non-violence  TRIBUNJABAR.ID, MAJALENGKA - Warga Desa Paning...\n",
       "221  non-violence  TRIBUNJABAR.ID, CIREBON - Sebagian warga Kelur...\n",
       "\n",
       "[222 rows x 2 columns]"
      ]
     },
     "execution_count": 85,
     "metadata": {},
     "output_type": "execute_result"
    }
   ],
   "source": [
    "train_news"
   ]
  },
  {
   "cell_type": "code",
   "execution_count": 86,
   "id": "7982ec64",
   "metadata": {},
   "outputs": [],
   "source": [
    "train_news[\"label\"] = np.where(train_news[\"label\"].str.match(\"violence\"), 1, 0)"
   ]
  },
  {
   "cell_type": "code",
   "execution_count": 87,
   "id": "9983d8ae",
   "metadata": {},
   "outputs": [
    {
     "data": {
      "text/html": [
       "<div>\n",
       "<style scoped>\n",
       "    .dataframe tbody tr th:only-of-type {\n",
       "        vertical-align: middle;\n",
       "    }\n",
       "\n",
       "    .dataframe tbody tr th {\n",
       "        vertical-align: top;\n",
       "    }\n",
       "\n",
       "    .dataframe thead th {\n",
       "        text-align: right;\n",
       "    }\n",
       "</style>\n",
       "<table border=\"1\" class=\"dataframe\">\n",
       "  <thead>\n",
       "    <tr style=\"text-align: right;\">\n",
       "      <th></th>\n",
       "      <th>label</th>\n",
       "      <th>text</th>\n",
       "    </tr>\n",
       "  </thead>\n",
       "  <tbody>\n",
       "    <tr>\n",
       "      <th>0</th>\n",
       "      <td>1</td>\n",
       "      <td>BANDUNG, (PR).- Sidang kasus penganiayaan dua ...</td>\n",
       "    </tr>\n",
       "    <tr>\n",
       "      <th>1</th>\n",
       "      <td>1</td>\n",
       "      <td>BOGOR, (PR).- Ratusan warga dari Kelurahan Kat...</td>\n",
       "    </tr>\n",
       "    <tr>\n",
       "      <th>2</th>\n",
       "      <td>1</td>\n",
       "      <td>BANDUNG, (PR).- Pendukung Persib Bandung tenga...</td>\n",
       "    </tr>\n",
       "    <tr>\n",
       "      <th>3</th>\n",
       "      <td>1</td>\n",
       "      <td>SUMEDANG, (PR).- Sidang Paripurna Istimewa DPR...</td>\n",
       "    </tr>\n",
       "    <tr>\n",
       "      <th>4</th>\n",
       "      <td>1</td>\n",
       "      <td>NGAMPRAH, (PR).- Manajemen PT Ultrajaya Milk I...</td>\n",
       "    </tr>\n",
       "    <tr>\n",
       "      <th>...</th>\n",
       "      <td>...</td>\n",
       "      <td>...</td>\n",
       "    </tr>\n",
       "    <tr>\n",
       "      <th>217</th>\n",
       "      <td>0</td>\n",
       "      <td>TRIBUNJABAR.ID, INDRAMAYU- Krisis air bersih m...</td>\n",
       "    </tr>\n",
       "    <tr>\n",
       "      <th>218</th>\n",
       "      <td>0</td>\n",
       "      <td>TRIBUNJABAR.ID, TASIKMALAYA - Badan Penanggula...</td>\n",
       "    </tr>\n",
       "    <tr>\n",
       "      <th>219</th>\n",
       "      <td>0</td>\n",
       "      <td>TRIBUNJABAR.ID, CIANJUR - Bencana kekeringan m...</td>\n",
       "    </tr>\n",
       "    <tr>\n",
       "      <th>220</th>\n",
       "      <td>0</td>\n",
       "      <td>TRIBUNJABAR.ID, MAJALENGKA - Warga Desa Paning...</td>\n",
       "    </tr>\n",
       "    <tr>\n",
       "      <th>221</th>\n",
       "      <td>0</td>\n",
       "      <td>TRIBUNJABAR.ID, CIREBON - Sebagian warga Kelur...</td>\n",
       "    </tr>\n",
       "  </tbody>\n",
       "</table>\n",
       "<p>222 rows × 2 columns</p>\n",
       "</div>"
      ],
      "text/plain": [
       "     label                                               text\n",
       "0        1  BANDUNG, (PR).- Sidang kasus penganiayaan dua ...\n",
       "1        1  BOGOR, (PR).- Ratusan warga dari Kelurahan Kat...\n",
       "2        1  BANDUNG, (PR).- Pendukung Persib Bandung tenga...\n",
       "3        1  SUMEDANG, (PR).- Sidang Paripurna Istimewa DPR...\n",
       "4        1  NGAMPRAH, (PR).- Manajemen PT Ultrajaya Milk I...\n",
       "..     ...                                                ...\n",
       "217      0  TRIBUNJABAR.ID, INDRAMAYU- Krisis air bersih m...\n",
       "218      0  TRIBUNJABAR.ID, TASIKMALAYA - Badan Penanggula...\n",
       "219      0  TRIBUNJABAR.ID, CIANJUR - Bencana kekeringan m...\n",
       "220      0  TRIBUNJABAR.ID, MAJALENGKA - Warga Desa Paning...\n",
       "221      0  TRIBUNJABAR.ID, CIREBON - Sebagian warga Kelur...\n",
       "\n",
       "[222 rows x 2 columns]"
      ]
     },
     "execution_count": 87,
     "metadata": {},
     "output_type": "execute_result"
    }
   ],
   "source": [
    "train_news"
   ]
  },
  {
   "cell_type": "code",
   "execution_count": 88,
   "id": "b71e038f",
   "metadata": {},
   "outputs": [],
   "source": [
    "text_clf = Pipeline([\n",
    "    ('vect', CountVectorizer()),\n",
    "    ('tfidf', TfidfTransformer()),\n",
    "    ('clf', MultinomialNB())\n",
    "])"
   ]
  },
  {
   "cell_type": "code",
   "execution_count": 89,
   "id": "e9746317",
   "metadata": {},
   "outputs": [
    {
     "data": {
      "text/plain": [
       "Pipeline(steps=[('vect', CountVectorizer()), ('tfidf', TfidfTransformer()),\n",
       "                ('clf', MultinomialNB())])"
      ]
     },
     "execution_count": 89,
     "metadata": {},
     "output_type": "execute_result"
    }
   ],
   "source": [
    "text_clf.fit(train_news[\"text\"], train_news[\"label\"])"
   ]
  },
  {
   "cell_type": "code",
   "execution_count": 90,
   "id": "67005005",
   "metadata": {},
   "outputs": [],
   "source": [
    "predicted = text_clf.predict(deploy_news[\"berita\"])"
   ]
  },
  {
   "cell_type": "code",
   "execution_count": 91,
   "id": "7fc0cbd8",
   "metadata": {},
   "outputs": [
    {
     "data": {
      "text/plain": [
       "array([1, 1, 1, 1, 1, 1, 1, 1, 1, 1, 1, 1, 1, 1, 0, 1, 1, 1, 1, 1, 1, 1,\n",
       "       0, 0, 1, 1, 1, 1, 1, 1, 1, 1, 1, 1, 0, 1, 1, 0, 0, 0, 0, 0, 0, 0,\n",
       "       0, 0, 0, 0, 0, 0, 0, 0, 0, 0, 0, 0, 0, 0, 0, 0, 0, 1, 0, 0, 0, 0,\n",
       "       0, 0, 0, 0, 0, 0, 0, 0, 0, 0, 0, 0, 0, 0, 0, 0, 0, 0, 0, 0, 0, 0,\n",
       "       0, 0, 0, 0, 0, 0, 0, 0, 0, 0, 0, 0, 0, 0, 0, 0, 0, 0, 0, 0, 0, 0,\n",
       "       1, 1, 0, 1, 1, 1, 0, 1, 0, 1, 0, 0, 1, 1, 1, 1, 0, 0, 1, 1])"
      ]
     },
     "execution_count": 91,
     "metadata": {},
     "output_type": "execute_result"
    }
   ],
   "source": [
    "predicted"
   ]
  },
  {
   "cell_type": "code",
   "execution_count": 92,
   "id": "6191a993",
   "metadata": {},
   "outputs": [],
   "source": [
    "deploy_news[\"predict\"]=predicted"
   ]
  },
  {
   "cell_type": "code",
   "execution_count": 93,
   "id": "ac4df1d8",
   "metadata": {},
   "outputs": [
    {
     "name": "stdout",
     "output_type": "stream",
     "text": [
      "     bulan                                             berita  predict\n",
      "0       10  Jakarta (ANTARA) - Presiden Konfederasi Serika...        1\n",
      "1       10  Karawang (ANTARA) - Aparat kepolisian dari Pol...        1\n",
      "2       10  Cirebon (ANTARA) - Kepolisian Resor (Polres) C...        1\n",
      "3       10  Bandung (ANTARA) -\\nPetugas Polrestabes Bandun...        1\n",
      "4       10  Subang (ANTARA) - Polres Kabupaten Subang, Jaw...        1\n",
      "..     ...                                                ...      ...\n",
      "125      6  Bogor (ANTARA) - Mahasiswa Program Doktor Peng...        1\n",
      "126      6  Karawang (ANTARA) - Komisi I DPRD Kabupaten Ka...        0\n",
      "127      6  Bandung (ANTARA) - Kepala Biro Pemerintahan da...        0\n",
      "128      5  Bandung (ANTARA) - Dewan Pimpinan Wilayah Part...        1\n",
      "129      9  Bandung (ANTARA) - Ketua Umum Dewan Pimpinan W...        1\n",
      "\n",
      "[130 rows x 3 columns]\n"
     ]
    }
   ],
   "source": [
    "print(deploy_news)"
   ]
  },
  {
   "cell_type": "code",
   "execution_count": 94,
   "id": "a9379c76",
   "metadata": {},
   "outputs": [],
   "source": [
    "file_name = 'data_2020_antaranews2.xlsx'"
   ]
  },
  {
   "cell_type": "code",
   "execution_count": 95,
   "id": "343ba9ad",
   "metadata": {},
   "outputs": [
    {
     "name": "stdout",
     "output_type": "stream",
     "text": [
      "Data 2021 successfully exported into Excel File\n"
     ]
    }
   ],
   "source": [
    "deploy_news.to_excel(file_name)\n",
    "print('Data 2021 successfully exported into Excel File')"
   ]
  },
  {
   "cell_type": "code",
   "execution_count": null,
   "id": "b237b624",
   "metadata": {},
   "outputs": [],
   "source": []
  }
 ],
 "metadata": {
  "kernelspec": {
   "display_name": "Python 3 (ipykernel)",
   "language": "python",
   "name": "python3"
  },
  "language_info": {
   "codemirror_mode": {
    "name": "ipython",
    "version": 3
   },
   "file_extension": ".py",
   "mimetype": "text/x-python",
   "name": "python",
   "nbconvert_exporter": "python",
   "pygments_lexer": "ipython3",
   "version": "3.8.10"
  }
 },
 "nbformat": 4,
 "nbformat_minor": 5
}
