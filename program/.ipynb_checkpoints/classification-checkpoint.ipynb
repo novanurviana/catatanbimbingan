{
 "cells": [
  {
   "cell_type": "markdown",
   "metadata": {},
   "source": [
    "# Text classification"
   ]
  },
  {
   "cell_type": "code",
   "execution_count": 1,
   "metadata": {},
   "outputs": [],
   "source": [
    "import pandas as pd\n",
    "import numpy as np\n",
    "\n",
    "from sklearn.preprocessing import LabelEncoder\n",
    "from sklearn.feature_extraction.text import CountVectorizer, TfidfTransformer\n",
    "from sklearn.naive_bayes import MultinomialNB\n",
    "from sklearn.linear_model import SGDClassifier\n",
    "from sklearn.pipeline import Pipeline\n",
    "from sklearn import metrics"
   ]
  },
  {
   "cell_type": "code",
   "execution_count": 2,
   "metadata": {},
   "outputs": [],
   "source": [
    "class CreateDataset(object):\n",
    "    def __init__(self, dataframe, category=None):\n",
    "        data = dataframe[\"text\"].tolist()\n",
    "        target = dataframe[\"label\"].to_numpy()\n",
    "        \n",
    "        self.target_names = ['non-violence', 'violence']\n",
    "        \n",
    "        if category == \"train\":\n",
    "            self.data = data[:150]\n",
    "            self.target = target[:150]\n",
    "        elif category == \"test\":\n",
    "            self.data = data[150:]\n",
    "            self.target = target[150:]\n",
    "        else:\n",
    "            print('set category=\"train\" | \"test\"')"
   ]
  },
  {
   "cell_type": "code",
   "execution_count": 3,
   "metadata": {},
   "outputs": [
    {
     "data": {
      "text/html": [
       "<div>\n",
       "<style scoped>\n",
       "    .dataframe tbody tr th:only-of-type {\n",
       "        vertical-align: middle;\n",
       "    }\n",
       "\n",
       "    .dataframe tbody tr th {\n",
       "        vertical-align: top;\n",
       "    }\n",
       "\n",
       "    .dataframe thead th {\n",
       "        text-align: right;\n",
       "    }\n",
       "</style>\n",
       "<table border=\"1\" class=\"dataframe\">\n",
       "  <thead>\n",
       "    <tr style=\"text-align: right;\">\n",
       "      <th></th>\n",
       "      <th>label</th>\n",
       "      <th>text</th>\n",
       "    </tr>\n",
       "  </thead>\n",
       "  <tbody>\n",
       "    <tr>\n",
       "      <th>0</th>\n",
       "      <td>violence</td>\n",
       "      <td>BANDUNG, (PR).- Sidang kasus penganiayaan dua ...</td>\n",
       "    </tr>\n",
       "    <tr>\n",
       "      <th>1</th>\n",
       "      <td>violence</td>\n",
       "      <td>BOGOR, (PR).- Ratusan warga dari Kelurahan Kat...</td>\n",
       "    </tr>\n",
       "    <tr>\n",
       "      <th>2</th>\n",
       "      <td>violence</td>\n",
       "      <td>BANDUNG, (PR).- Pendukung Persib Bandung tenga...</td>\n",
       "    </tr>\n",
       "    <tr>\n",
       "      <th>3</th>\n",
       "      <td>violence</td>\n",
       "      <td>SUMEDANG, (PR).- Sidang Paripurna Istimewa DPR...</td>\n",
       "    </tr>\n",
       "    <tr>\n",
       "      <th>4</th>\n",
       "      <td>violence</td>\n",
       "      <td>NGAMPRAH, (PR).- Manajemen PT Ultrajaya Milk I...</td>\n",
       "    </tr>\n",
       "    <tr>\n",
       "      <th>...</th>\n",
       "      <td>...</td>\n",
       "      <td>...</td>\n",
       "    </tr>\n",
       "    <tr>\n",
       "      <th>217</th>\n",
       "      <td>non-violence</td>\n",
       "      <td>TRIBUNJABAR.ID, INDRAMAYU- Krisis air bersih m...</td>\n",
       "    </tr>\n",
       "    <tr>\n",
       "      <th>218</th>\n",
       "      <td>non-violence</td>\n",
       "      <td>TRIBUNJABAR.ID, TASIKMALAYA - Badan Penanggula...</td>\n",
       "    </tr>\n",
       "    <tr>\n",
       "      <th>219</th>\n",
       "      <td>non-violence</td>\n",
       "      <td>TRIBUNJABAR.ID, CIANJUR - Bencana kekeringan m...</td>\n",
       "    </tr>\n",
       "    <tr>\n",
       "      <th>220</th>\n",
       "      <td>non-violence</td>\n",
       "      <td>TRIBUNJABAR.ID, MAJALENGKA - Warga Desa Paning...</td>\n",
       "    </tr>\n",
       "    <tr>\n",
       "      <th>221</th>\n",
       "      <td>non-violence</td>\n",
       "      <td>TRIBUNJABAR.ID, CIREBON - Sebagian warga Kelur...</td>\n",
       "    </tr>\n",
       "  </tbody>\n",
       "</table>\n",
       "<p>222 rows × 2 columns</p>\n",
       "</div>"
      ],
      "text/plain": [
       "            label                                               text\n",
       "0        violence  BANDUNG, (PR).- Sidang kasus penganiayaan dua ...\n",
       "1        violence  BOGOR, (PR).- Ratusan warga dari Kelurahan Kat...\n",
       "2        violence  BANDUNG, (PR).- Pendukung Persib Bandung tenga...\n",
       "3        violence  SUMEDANG, (PR).- Sidang Paripurna Istimewa DPR...\n",
       "4        violence  NGAMPRAH, (PR).- Manajemen PT Ultrajaya Milk I...\n",
       "..            ...                                                ...\n",
       "217  non-violence  TRIBUNJABAR.ID, INDRAMAYU- Krisis air bersih m...\n",
       "218  non-violence  TRIBUNJABAR.ID, TASIKMALAYA - Badan Penanggula...\n",
       "219  non-violence  TRIBUNJABAR.ID, CIANJUR - Bencana kekeringan m...\n",
       "220  non-violence  TRIBUNJABAR.ID, MAJALENGKA - Warga Desa Paning...\n",
       "221  non-violence  TRIBUNJABAR.ID, CIREBON - Sebagian warga Kelur...\n",
       "\n",
       "[222 rows x 2 columns]"
      ]
     },
     "execution_count": 3,
     "metadata": {},
     "output_type": "execute_result"
    }
   ],
   "source": [
    "demo_news = pd.read_excel(\"selected-training-data.xlsx\", sheet_name=\"Sheet1\", engine=\"openpyxl\",\n",
    "                          nrows=200)\n",
    "demo_news = demo_news.melt(var_name=\"label\", value_name=\"text\")\n",
    "demo_news"
   ]
  },
  {
   "cell_type": "code",
   "execution_count": 4,
   "metadata": {},
   "outputs": [
    {
     "data": {
      "text/html": [
       "<div>\n",
       "<style scoped>\n",
       "    .dataframe tbody tr th:only-of-type {\n",
       "        vertical-align: middle;\n",
       "    }\n",
       "\n",
       "    .dataframe tbody tr th {\n",
       "        vertical-align: top;\n",
       "    }\n",
       "\n",
       "    .dataframe thead th {\n",
       "        text-align: right;\n",
       "    }\n",
       "</style>\n",
       "<table border=\"1\" class=\"dataframe\">\n",
       "  <thead>\n",
       "    <tr style=\"text-align: right;\">\n",
       "      <th></th>\n",
       "      <th>label</th>\n",
       "      <th>text</th>\n",
       "    </tr>\n",
       "  </thead>\n",
       "  <tbody>\n",
       "    <tr>\n",
       "      <th>0</th>\n",
       "      <td>0</td>\n",
       "      <td>INDRAMAYU, (PR).- PT Polytama Propindo members...</td>\n",
       "    </tr>\n",
       "    <tr>\n",
       "      <th>1</th>\n",
       "      <td>0</td>\n",
       "      <td>TRIBUNJABAR.ID, BANDUNG- Ribuan pelanggan air ...</td>\n",
       "    </tr>\n",
       "    <tr>\n",
       "      <th>2</th>\n",
       "      <td>1</td>\n",
       "      <td>BANDUNG, (PR).- Kantor KPU Jawa Barat didatang...</td>\n",
       "    </tr>\n",
       "    <tr>\n",
       "      <th>3</th>\n",
       "      <td>0</td>\n",
       "      <td>Purwakarta (ANTARA) - Dinas Pemadam Kebakaran ...</td>\n",
       "    </tr>\n",
       "    <tr>\n",
       "      <th>4</th>\n",
       "      <td>0</td>\n",
       "      <td>Jemaat melaksanakan ibadah kebaktian dengan me...</td>\n",
       "    </tr>\n",
       "    <tr>\n",
       "      <th>...</th>\n",
       "      <td>...</td>\n",
       "      <td>...</td>\n",
       "    </tr>\n",
       "    <tr>\n",
       "      <th>217</th>\n",
       "      <td>1</td>\n",
       "      <td>TRIBUNCIREBON, MAJALENGKA - Kepala Desa (Kuwu)...</td>\n",
       "    </tr>\n",
       "    <tr>\n",
       "      <th>218</th>\n",
       "      <td>1</td>\n",
       "      <td>CIBINONG, (PR).- Polres Bogor mengibarkan bend...</td>\n",
       "    </tr>\n",
       "    <tr>\n",
       "      <th>219</th>\n",
       "      <td>1</td>\n",
       "      <td>\\nTRIBUNJABAR.ID, BANDUNG - Ribuan mahasiswa k...</td>\n",
       "    </tr>\n",
       "    <tr>\n",
       "      <th>220</th>\n",
       "      <td>0</td>\n",
       "      <td>Sukabumi, Jabar (ANTARA) - Badan Penanggulanga...</td>\n",
       "    </tr>\n",
       "    <tr>\n",
       "      <th>221</th>\n",
       "      <td>1</td>\n",
       "      <td>RIBUNJABAR.ID, BANDUNG - Gelombang aksi solida...</td>\n",
       "    </tr>\n",
       "  </tbody>\n",
       "</table>\n",
       "<p>222 rows × 2 columns</p>\n",
       "</div>"
      ],
      "text/plain": [
       "     label                                               text\n",
       "0        0  INDRAMAYU, (PR).- PT Polytama Propindo members...\n",
       "1        0  TRIBUNJABAR.ID, BANDUNG- Ribuan pelanggan air ...\n",
       "2        1  BANDUNG, (PR).- Kantor KPU Jawa Barat didatang...\n",
       "3        0  Purwakarta (ANTARA) - Dinas Pemadam Kebakaran ...\n",
       "4        0  Jemaat melaksanakan ibadah kebaktian dengan me...\n",
       "..     ...                                                ...\n",
       "217      1  TRIBUNCIREBON, MAJALENGKA - Kepala Desa (Kuwu)...\n",
       "218      1  CIBINONG, (PR).- Polres Bogor mengibarkan bend...\n",
       "219      1  \\nTRIBUNJABAR.ID, BANDUNG - Ribuan mahasiswa k...\n",
       "220      0  Sukabumi, Jabar (ANTARA) - Badan Penanggulanga...\n",
       "221      1  RIBUNJABAR.ID, BANDUNG - Gelombang aksi solida...\n",
       "\n",
       "[222 rows x 2 columns]"
      ]
     },
     "execution_count": 4,
     "metadata": {},
     "output_type": "execute_result"
    }
   ],
   "source": [
    "demo_news_shuffled = demo_news.sample(frac=1, random_state=42).reset_index(drop=True)\n",
    "\n",
    "# encode non-violence and violence\n",
    "demo_news_shuffled[\"label\"] = np.where(demo_news_shuffled[\"label\"].str.match(\"violence\"), 1, 0)\n",
    "demo_news_shuffled"
   ]
  },
  {
   "cell_type": "code",
   "execution_count": 5,
   "metadata": {},
   "outputs": [],
   "source": [
    "news_train = CreateDataset(demo_news_shuffled, category=\"train\")\n",
    "news_test = CreateDataset(demo_news_shuffled, category=\"test\")"
   ]
  },
  {
   "cell_type": "markdown",
   "metadata": {},
   "source": [
    "## Naïve Bayes classifier"
   ]
  },
  {
   "cell_type": "code",
   "execution_count": 6,
   "metadata": {},
   "outputs": [],
   "source": [
    "text_clf = Pipeline([\n",
    "    ('vect', CountVectorizer()),\n",
    "    ('tfidf', TfidfTransformer()),\n",
    "    ('clf', MultinomialNB())\n",
    "])"
   ]
  },
  {
   "cell_type": "code",
   "execution_count": 7,
   "metadata": {},
   "outputs": [
    {
     "data": {
      "text/plain": [
       "Pipeline(steps=[('vect', CountVectorizer()), ('tfidf', TfidfTransformer()),\n",
       "                ('clf', MultinomialNB())])"
      ]
     },
     "execution_count": 7,
     "metadata": {},
     "output_type": "execute_result"
    }
   ],
   "source": [
    "text_clf.fit(news_train.data, news_train.target)"
   ]
  },
  {
   "cell_type": "markdown",
   "metadata": {},
   "source": [
    "### Evaluation of the performance on the test set"
   ]
  },
  {
   "cell_type": "code",
   "execution_count": 8,
   "metadata": {},
   "outputs": [
    {
     "data": {
      "text/plain": [
       "0.9305555555555556"
      ]
     },
     "execution_count": 8,
     "metadata": {},
     "output_type": "execute_result"
    }
   ],
   "source": [
    "predicted = text_clf.predict(news_test.data)\n",
    "np.mean(predicted == news_test.target)"
   ]
  },
  {
   "cell_type": "code",
   "execution_count": 9,
   "metadata": {},
   "outputs": [
    {
     "name": "stdout",
     "output_type": "stream",
     "text": [
      "Naïve Bayes classifier\n",
      "\n",
      "              precision    recall  f1-score   support\n",
      "\n",
      "non-violence       0.87      1.00      0.93        34\n",
      "    violence       1.00      0.87      0.93        38\n",
      "\n",
      "    accuracy                           0.93        72\n",
      "   macro avg       0.94      0.93      0.93        72\n",
      "weighted avg       0.94      0.93      0.93        72\n",
      "\n"
     ]
    }
   ],
   "source": [
    "print(\"Naïve Bayes classifier\\n\")\n",
    "print(metrics.classification_report(news_test.target, predicted, \n",
    "                                   target_names=news_test.target_names))"
   ]
  },
  {
   "cell_type": "code",
   "execution_count": 10,
   "metadata": {},
   "outputs": [
    {
     "data": {
      "text/plain": [
       "array([[34,  0],\n",
       "       [ 5, 33]], dtype=int64)"
      ]
     },
     "execution_count": 10,
     "metadata": {},
     "output_type": "execute_result"
    }
   ],
   "source": [
    "metrics.confusion_matrix(news_test.target, predicted)"
   ]
  },
  {
   "cell_type": "markdown",
   "metadata": {},
   "source": [
    "## SVM classifier"
   ]
  },
  {
   "cell_type": "code",
   "execution_count": 11,
   "metadata": {},
   "outputs": [],
   "source": [
    "text_clf = Pipeline([\n",
    "    ('vect', CountVectorizer()),\n",
    "    ('tfidf', TfidfTransformer()),\n",
    "    ('clf', SGDClassifier(loss='hinge', penalty='l2', alpha=1e-3, random_state=42, max_iter=5, tol=None))\n",
    "])"
   ]
  },
  {
   "cell_type": "code",
   "execution_count": 12,
   "metadata": {},
   "outputs": [
    {
     "data": {
      "text/plain": [
       "Pipeline(steps=[('vect', CountVectorizer()), ('tfidf', TfidfTransformer()),\n",
       "                ('clf',\n",
       "                 SGDClassifier(alpha=0.001, max_iter=5, random_state=42,\n",
       "                               tol=None))])"
      ]
     },
     "execution_count": 12,
     "metadata": {},
     "output_type": "execute_result"
    }
   ],
   "source": [
    "text_clf.fit(news_train.data, news_train.target)"
   ]
  },
  {
   "cell_type": "markdown",
   "metadata": {},
   "source": [
    "### Evaluation of the performance on the test set"
   ]
  },
  {
   "cell_type": "code",
   "execution_count": 13,
   "metadata": {},
   "outputs": [
    {
     "data": {
      "text/plain": [
       "0.9861111111111112"
      ]
     },
     "execution_count": 13,
     "metadata": {},
     "output_type": "execute_result"
    }
   ],
   "source": [
    "predicted = text_clf.predict(news_test.data)\n",
    "np.mean(predicted == news_test.target)"
   ]
  },
  {
   "cell_type": "code",
   "execution_count": 14,
   "metadata": {},
   "outputs": [
    {
     "name": "stdout",
     "output_type": "stream",
     "text": [
      "SVM classifier\n",
      "\n",
      "              precision    recall  f1-score   support\n",
      "\n",
      "non-violence       0.97      1.00      0.99        34\n",
      "    violence       1.00      0.97      0.99        38\n",
      "\n",
      "    accuracy                           0.99        72\n",
      "   macro avg       0.99      0.99      0.99        72\n",
      "weighted avg       0.99      0.99      0.99        72\n",
      "\n"
     ]
    }
   ],
   "source": [
    "print(\"SVM classifier\\n\")\n",
    "print(metrics.classification_report(news_test.target, predicted, \n",
    "                                   target_names=news_test.target_names))"
   ]
  },
  {
   "cell_type": "code",
   "execution_count": 15,
   "metadata": {},
   "outputs": [
    {
     "data": {
      "text/plain": [
       "array([[34,  0],\n",
       "       [ 1, 37]], dtype=int64)"
      ]
     },
     "execution_count": 15,
     "metadata": {},
     "output_type": "execute_result"
    }
   ],
   "source": [
    "metrics.confusion_matrix(news_test.target, predicted)"
   ]
  },
  {
   "cell_type": "code",
   "execution_count": null,
   "metadata": {},
   "outputs": [],
   "source": []
  }
 ],
 "metadata": {
  "kernelspec": {
   "display_name": "Python 3 (ipykernel)",
   "language": "python",
   "name": "python3"
  },
  "language_info": {
   "codemirror_mode": {
    "name": "ipython",
    "version": 3
   },
   "file_extension": ".py",
   "mimetype": "text/x-python",
   "name": "python",
   "nbconvert_exporter": "python",
   "pygments_lexer": "ipython3",
   "version": "3.8.10"
  },
  "toc": {
   "base_numbering": 1,
   "nav_menu": {},
   "number_sections": false,
   "sideBar": true,
   "skip_h1_title": false,
   "title_cell": "Table of Contents",
   "title_sidebar": "Contents",
   "toc_cell": false,
   "toc_position": {},
   "toc_section_display": true,
   "toc_window_display": false
  }
 },
 "nbformat": 4,
 "nbformat_minor": 4
}
